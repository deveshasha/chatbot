{
 "cells": [
  {
   "cell_type": "code",
   "execution_count": 2,
   "metadata": {},
   "outputs": [],
   "source": [
    "from scrapers import facebook_scraper, company_scraper\n",
    "import builder\n",
    "from QnaBot import QnaBot"
   ]
  },
  {
   "cell_type": "code",
   "execution_count": 9,
   "metadata": {},
   "outputs": [],
   "source": [
    "class EasyReply():\n",
    "    def __init__(self):\n",
    "        self.name = 'Robot'\n",
    "        \n",
    "    def setFbLink(self, link, loopCount=2):\n",
    "        self.fbpage = link\n",
    "        self.loopCount = loopCount\n",
    "    \n",
    "    def setQNALink(self, link):\n",
    "        self.qnalink = link\n",
    "        \n",
    "    def setup(self):\n",
    "        if hasattr(self, 'fbpage'):\n",
    "            print('Scraping Facebook...')\n",
    "            facebook_scraper.scrapePost(self.fbpage, self.loopCount)\n",
    "        if hasattr(self, 'qnalink'):\n",
    "            print('Scraping Company Page...')\n",
    "            if len(self.qnalink)==3:\n",
    "                self.qna_df = company_scraper.scrape('qna.csv',self.qnalink[0],self.qnalink[1], self.qnalink[2])\n",
    "            elif len(self.qnalink) == 2:\n",
    "                self.qna_df = company_scraper.scrape('qna.csv',self.qnalink[0],self.qnalink[1])\n",
    "            else:\n",
    "                self.qna_df = company_scraper.scrape('qna.csv',self.qnalink[0],[])\n",
    "        else:\n",
    "            return 'Please use setQNALink(link) to input company FAQ page.'\n",
    "        \n",
    "        print('Building QnaBot...')\n",
    "        builder.construct(self.qna_df, isCsv=False)\n",
    "        print('Model saved to model.pkl...')\n",
    "        self.qnabot = QnaBot('model.pkl')\n",
    "        print('Done.')\n",
    "        \n",
    "    def answer(self,text):\n",
    "        if hasattr(self, 'qnabot'):\n",
    "            return self.qnabot.answer(text)\n",
    "        else:\n",
    "            return 'Please run setup() first'"
   ]
  },
  {
   "cell_type": "code",
   "execution_count": 10,
   "metadata": {},
   "outputs": [],
   "source": [
    "soup_urls = ['https://www.singtel.com/personal/i/internet/broadband-at-home/faqs',\n",
    "        'https://www.singtel.com/personal/i/faq/mobileShareFaqs',\n",
    "        'https://www.singtel.com/personal/i/phones-plans/mobile/vas/datamore/faq',\n",
    "        'https://www.singtel.com/personal/i/internet/home-broadband/fibre-broadband-0/faqs/faq-0']\n",
    "\n",
    "selenium_urls = ['https://www.singtel.com/personal/support/account-billing',\n",
    "        'https://www.singtel.com/personal/support/mobile-postpaid',\n",
    "        'https://www.singtel.com/personal/support/prepaid-cards',\n",
    "        'https://www.singtel.com/personal/support/broadband',\n",
    "        'https://www.singtel.com/personal/support/singtel-tv',\n",
    "        'https://www.singtel.com/personal/support/telephony',\n",
    "        'https://www.singtel.com/personal/support/online-purchases',\n",
    "        'https://www.singtel.com/personal/support/lifestyle/connectedthings',\n",
    "        'https://www.singtel.com/personal/support/lifestyle/Oaxis',\n",
    "        'https://www.singtel.com/personal/support/lifestyle/trackimo']\n",
    "\n",
    "selenium_urls_2 = ['https://www.singtel.com/personal/support/broadband/troubleshoot',\n",
    "                   'https://www.singtel.com/personal/support/telephony/troubleshoot',\n",
    "                   'https://www.singtel.com/personal/support/singtel-tv/troubleshoot']\n",
    "\n",
    "# co_links = [soup_urls,selenium_urls,selenium_urls_2]\n",
    "co_links = [soup_urls]"
   ]
  },
  {
   "cell_type": "code",
   "execution_count": 11,
   "metadata": {},
   "outputs": [
    {
     "name": "stdout",
     "output_type": "stream",
     "text": [
      "Scraping Company Page...\n",
      "Crawling Selenium links...\n",
      "Saved Q&A to qna.csv\n",
      "Building QnaBot...\n",
      "Model written out to model.pkl\n",
      "Model saved to model.pkl...\n",
      "Done.\n"
     ]
    }
   ],
   "source": [
    "er = EasyReply()\n",
    "er.setQNALink(co_links)\n",
    "er.setup()"
   ]
  },
  {
   "cell_type": "code",
   "execution_count": 16,
   "metadata": {},
   "outputs": [
    {
     "name": "stderr",
     "output_type": "stream",
     "text": [
      "C:\\Users\\yongz\\Anaconda3\\lib\\site-packages\\sklearn\\preprocessing\\label.py:151: DeprecationWarning: The truth value of an empty array is ambiguous. Returning False, but in future this will result in an error. Use `array.size > 0` to check that an array is not empty.\n",
      "  if diff:\n"
     ]
    },
    {
     "data": {
      "text/plain": [
       "'Thank you for your question. A live agent will get back to you shortly.'"
      ]
     },
     "execution_count": 16,
     "metadata": {},
     "output_type": "execute_result"
    }
   ],
   "source": [
    "er.answer('How do I renew my subscription?')"
   ]
  }
 ],
 "metadata": {
  "kernelspec": {
   "display_name": "Python 3",
   "language": "python",
   "name": "python3"
  },
  "language_info": {
   "codemirror_mode": {
    "name": "ipython",
    "version": 3
   },
   "file_extension": ".py",
   "mimetype": "text/x-python",
   "name": "python",
   "nbconvert_exporter": "python",
   "pygments_lexer": "ipython3",
   "version": "3.7.0"
  }
 },
 "nbformat": 4,
 "nbformat_minor": 2
}
