{
 "cells": [
  {
   "cell_type": "code",
   "execution_count": 1,
   "metadata": {},
   "outputs": [],
   "source": [
    "import pandas as pd\n",
    "import pickle\n",
    "import os\n",
    "import sys\n",
    "from builder import NLTKPreprocessor, identity"
   ]
  },
  {
   "cell_type": "code",
   "execution_count": 2,
   "metadata": {},
   "outputs": [],
   "source": [
    "model_file = 'model.pkl'\n",
    "with open(model_file, 'rb') as f:\n",
    "    model = pickle.load(f)\n",
    "\n",
    "def model_predict(text):\n",
    "    output = model.predict(pd.Series([text]))\n",
    "    probability = model.predict_proba(pd.Series([text]))[0][output][0]\n",
    "    answer = model.labels_.inverse_transform([output])[0][0]\n",
    "    if probability < 0.02:\n",
    "        answer = 'Thank you for your question. A live agent will get back to you shortly.'\n",
    "    return answer\n"
   ]
  },
  {
   "cell_type": "code",
   "execution_count": 13,
   "metadata": {},
   "outputs": [
    {
     "name": "stderr",
     "output_type": "stream",
     "text": [
      "C:\\Users\\yongz\\Anaconda3\\lib\\site-packages\\sklearn\\preprocessing\\label.py:151: DeprecationWarning: The truth value of an empty array is ambiguous. Returning False, but in future this will result in an error. Use `array.size > 0` to check that an array is not empty.\n",
      "  if diff:\n"
     ]
    },
    {
     "data": {
      "text/plain": [
       "\"Singtel Fibre Broadband is Singtel's high speed fibre service and it is delivered via an opticalfibre which is run directly into one's home.Through Singtel Fibre Broadband services consumers can enjoy amazing download speeds of up to 1Gbps which is superior to that of any other existing DSL or cable broadband network available. This allows for ultra high speed Internet access digital voice Internet television services home networking and other lifestyle applications.Customers can enjoy bandwidth intensive applications such as simultaneous music downloads home office and home networking with greater ease and also run multiple applications on one PC such as online chat web access and music or video downloads.\""
      ]
     },
     "execution_count": 13,
     "metadata": {},
     "output_type": "execute_result"
    }
   ],
   "source": [
    "model_predict('What wrong??Singtel')"
   ]
  },
  {
   "cell_type": "code",
   "execution_count": null,
   "metadata": {},
   "outputs": [],
   "source": []
  }
 ],
 "metadata": {
  "kernelspec": {
   "display_name": "Python 3",
   "language": "python",
   "name": "python3"
  },
  "language_info": {
   "codemirror_mode": {
    "name": "ipython",
    "version": 3
   },
   "file_extension": ".py",
   "mimetype": "text/x-python",
   "name": "python",
   "nbconvert_exporter": "python",
   "pygments_lexer": "ipython3",
   "version": "3.7.0"
  }
 },
 "nbformat": 4,
 "nbformat_minor": 2
}
