{
 "cells": [
  {
   "cell_type": "code",
   "execution_count": 1,
   "metadata": {
    "colab": {
     "base_uri": "https://localhost:8080/",
     "height": 34
    },
    "colab_type": "code",
    "id": "kCIcwCbS-fd1",
    "outputId": "59235228-8780-42c0-e783-5c5fbd7f7175"
   },
   "outputs": [
    {
     "name": "stdout",
     "output_type": "stream",
     "text": [
      "Drive already mounted at /content/drive; to attempt to forcibly remount, call drive.mount(\"/content/drive\", force_remount=True).\n"
     ]
    }
   ],
   "source": [
    "# mount google drive\n",
    "from google.colab import drive\n",
    "drive.mount('/content/drive')"
   ]
  },
  {
   "cell_type": "code",
   "execution_count": 0,
   "metadata": {
    "colab": {},
    "colab_type": "code",
    "id": "it9-Rhyf_Uqi"
   },
   "outputs": [],
   "source": [
    "import pandas as pd\n",
    "from nltk.corpus import stopwords\n",
    "import gensim\n",
    "from gensim.models import Word2Vec\n",
    "\n",
    "model = gensim.models.KeyedVectors.load_word2vec_format('/content/drive/My Drive/Colab Notebooks/GoogleNews-vectors-negative300.bin.gz', binary=True)\n",
    "model_n = gensim.models.KeyedVectors.load_word2vec_format('/content/drive/My Drive/Colab Notebooks/GoogleNews-vectors-negative300.bin.gz', binary=True) \n",
    "model_n.init_sims(replace=True) #normalized"
   ]
  },
  {
   "cell_type": "markdown",
   "metadata": {
    "colab_type": "text",
    "id": "G1LVeV2fSjoW"
   },
   "source": [
    "**Read data from google drive:**"
   ]
  },
  {
   "cell_type": "code",
   "execution_count": 0,
   "metadata": {
    "colab": {},
    "colab_type": "code",
    "id": "qT1l61h8_QQQ"
   },
   "outputs": [],
   "source": [
    "qna = pd.read_csv('/content/drive/My Drive/Colab Notebooks/qna.csv', sep=',',header=None, usecols=[0])\n",
    "fb = pd.read_csv('/content/drive/My Drive/Colab Notebooks/singtel_fb_questions.csv', sep=',', usecols=[0])\n",
    "qna.columns = ['question']"
   ]
  },
  {
   "cell_type": "markdown",
   "metadata": {
    "colab_type": "text",
    "id": "sMly7-mnStDN"
   },
   "source": [
    "**Obtain index of the final question in Q and A as well as in the Facebook posts that we scraped:**"
   ]
  },
  {
   "cell_type": "code",
   "execution_count": 0,
   "metadata": {
    "colab": {},
    "colab_type": "code",
    "id": "tp-L0jmqCiu8"
   },
   "outputs": [],
   "source": [
    "last_qna = qna.tail(1).index.item()\n",
    "last_fb = fb.tail(1).index.item()"
   ]
  },
  {
   "cell_type": "markdown",
   "metadata": {
    "colab_type": "text",
    "id": "cYgYvBLDUWiN"
   },
   "source": [
    "**Test it out with a fake user question (question1) and a QnA question (question2):**"
   ]
  },
  {
   "cell_type": "code",
   "execution_count": 5,
   "metadata": {
    "colab": {
     "base_uri": "https://localhost:8080/",
     "height": 34
    },
    "colab_type": "code",
    "id": "0weiQhSqQ5QD",
    "outputId": "e7f85a8a-7e03-42e3-ab47-685d2f7ec1f7"
   },
   "outputs": [
    {
     "name": "stdout",
     "output_type": "stream",
     "text": [
      "distance = 3.5535\n"
     ]
    }
   ],
   "source": [
    "question1 = 'Will i be charged if I upgrade to Singtel Fibre Broadband?'\n",
    "question2 = 'Will there be any charges for conversion if I plan to migrate from SingNet 56K dial-up or Magix plan to Singtel Fibre Broadband service plans?'\n",
    "\n",
    "question1 = question1.lower().split()\n",
    "question2 = question2.lower().split()\n",
    "\n",
    "question1 = [w for w in question1 if w not in stopwords.words('english')]\n",
    "question2 = [w for w in question2 if w not in stopwords.words('english')]\n",
    "\n",
    "distance = model.wmdistance(question1, question2)\n",
    "print('distance = %.4f' % distance)"
   ]
  },
  {
   "cell_type": "code",
   "execution_count": 6,
   "metadata": {
    "colab": {
     "base_uri": "https://localhost:8080/",
     "height": 34
    },
    "colab_type": "code",
    "id": "kXsJ6lOKUnCJ",
    "outputId": "58c73179-85a2-4dd0-8ba0-8c0e7c7996e3"
   },
   "outputs": [
    {
     "name": "stdout",
     "output_type": "stream",
     "text": [
      "normalized distance = 1.2207\n"
     ]
    }
   ],
   "source": [
    "distance = model_n.wmdistance(question1, question2)\n",
    "print('normalized distance = %.4f' % distance)"
   ]
  },
  {
   "cell_type": "markdown",
   "metadata": {
    "colab_type": "text",
    "id": "TqM1tPpIY-ps"
   },
   "source": [
    "**Now with our own:**"
   ]
  },
  {
   "cell_type": "code",
   "execution_count": 7,
   "metadata": {
    "colab": {
     "base_uri": "https://localhost:8080/",
     "height": 34
    },
    "colab_type": "code",
    "id": "-w48jnW0ZLI9",
    "outputId": "e89846b4-a600-443a-f7e3-34d79c9aa32f"
   },
   "outputs": [
    {
     "name": "stdout",
     "output_type": "stream",
     "text": [
      "0.7804878048780488\n"
     ]
    }
   ],
   "source": [
    "n = 0 #numerator +=1 if we determine that the fb question can be answered by one of the faq question\n",
    "d = 0 #denominator +=1 every iteration\n",
    "\n",
    "for i in range(0,last_fb+1):\n",
    "  question1 = fb.post_text[i]\n",
    "  \n",
    "  if isinstance(question1,str):\n",
    "    question1 = question1.lower().split()\n",
    "    question1 = [w for w in question1 if w not in stopwords.words('english')]\n",
    "  \n",
    "    for i in range(0,last_qna+1):\n",
    "      question2 = qna.question[i]\n",
    "      question2 = question2.lower().split()\n",
    "      question2 = [w for w in question2 if w not in stopwords.words('english')]\n",
    "\n",
    "      distance = model.wmdistance(question1, question2)\n",
    "      distance_n = model_n.wmdistance(question1, question2)\n",
    "\n",
    "      if (abs(distance-distance_n) > 3):\n",
    "        n += 1\n",
    "        break\n",
    "   \n",
    "  d += 1\n",
    "  \n",
    "print(n/d)"
   ]
  }
 ],
 "metadata": {
  "colab": {
   "collapsed_sections": [],
   "name": "Questions Similarity.ipynb",
   "provenance": [],
   "version": "0.3.2"
  },
  "kernelspec": {
   "display_name": "Python 3",
   "language": "python",
   "name": "python3"
  },
  "language_info": {
   "codemirror_mode": {
    "name": "ipython",
    "version": 3
   },
   "file_extension": ".py",
   "mimetype": "text/x-python",
   "name": "python",
   "nbconvert_exporter": "python",
   "pygments_lexer": "ipython3",
   "version": "3.7.0"
  }
 },
 "nbformat": 4,
 "nbformat_minor": 1
}
