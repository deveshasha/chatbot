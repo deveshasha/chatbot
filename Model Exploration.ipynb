{
 "cells": [
  {
   "cell_type": "markdown",
   "metadata": {},
   "source": [
    "## Import Packages"
   ]
  },
  {
   "cell_type": "code",
   "execution_count": 1,
   "metadata": {},
   "outputs": [
    {
     "name": "stdout",
     "output_type": "stream",
     "text": [
      "Loading the data file... Please wait...\n",
      "Successfully loaded 3.6 G bin file!\n"
     ]
    }
   ],
   "source": [
    "import pandas as pd\n",
    "import gensim\n",
    "pathToBinVectors = 'GoogleNews-vectors-negative300.bin'\n",
    "\n",
    "print (\"Loading the data file... Please wait...\")\n",
    "model1 = gensim.models.KeyedVectors.load_word2vec_format(pathToBinVectors, binary=True)\n",
    "print (\"Successfully loaded 3.6 G bin file!\")\n",
    "\n",
    "import numpy as np\n",
    "import math\n",
    "from scipy.spatial import distance\n",
    "\n",
    "from random import sample\n",
    "import sys\n",
    "from nltk.corpus import stopwords"
   ]
  },
  {
   "cell_type": "markdown",
   "metadata": {},
   "source": [
    "## Load Training and Test Data"
   ]
  },
  {
   "cell_type": "code",
   "execution_count": 2,
   "metadata": {},
   "outputs": [],
   "source": [
    "test_data = pd.read_csv('test_data.csv')\n",
    "train_data = pd.read_csv('singtel_qna.csv',header=None)"
   ]
  },
  {
   "cell_type": "code",
   "execution_count": 3,
   "metadata": {},
   "outputs": [
    {
     "data": {
      "text/html": [
       "<div>\n",
       "<style scoped>\n",
       "    .dataframe tbody tr th:only-of-type {\n",
       "        vertical-align: middle;\n",
       "    }\n",
       "\n",
       "    .dataframe tbody tr th {\n",
       "        vertical-align: top;\n",
       "    }\n",
       "\n",
       "    .dataframe thead th {\n",
       "        text-align: right;\n",
       "    }\n",
       "</style>\n",
       "<table border=\"1\" class=\"dataframe\">\n",
       "  <thead>\n",
       "    <tr style=\"text-align: right;\">\n",
       "      <th></th>\n",
       "      <th>Question</th>\n",
       "      <th>Answer</th>\n",
       "    </tr>\n",
       "  </thead>\n",
       "  <tbody>\n",
       "    <tr>\n",
       "      <th>0</th>\n",
       "      <td>What is Singtel Fibre Broadband?</td>\n",
       "      <td>Singtel Fibre Broadband is Singtel's high spee...</td>\n",
       "    </tr>\n",
       "    <tr>\n",
       "      <th>1</th>\n",
       "      <td>What is Fixed Line Number Retention Service?</td>\n",
       "      <td>Fixed Line Number Retention is a number portab...</td>\n",
       "    </tr>\n",
       "    <tr>\n",
       "      <th>2</th>\n",
       "      <td>What are the benefits I can enjoy with Singtel...</td>\n",
       "      <td>A. Consistently fast speeds IDA findings show ...</td>\n",
       "    </tr>\n",
       "    <tr>\n",
       "      <th>3</th>\n",
       "      <td>I'm interested in Singtel Fibre Broadband serv...</td>\n",
       "      <td>You can visit any Singtel shop check out our w...</td>\n",
       "    </tr>\n",
       "    <tr>\n",
       "      <th>4</th>\n",
       "      <td>What service plans are available if I want to ...</td>\n",
       "      <td>Please refer to the available Broadband plans ...</td>\n",
       "    </tr>\n",
       "  </tbody>\n",
       "</table>\n",
       "</div>"
      ],
      "text/plain": [
       "                                            Question  \\\n",
       "0                   What is Singtel Fibre Broadband?   \n",
       "1       What is Fixed Line Number Retention Service?   \n",
       "2  What are the benefits I can enjoy with Singtel...   \n",
       "3  I'm interested in Singtel Fibre Broadband serv...   \n",
       "4  What service plans are available if I want to ...   \n",
       "\n",
       "                                              Answer  \n",
       "0  Singtel Fibre Broadband is Singtel's high spee...  \n",
       "1  Fixed Line Number Retention is a number portab...  \n",
       "2  A. Consistently fast speeds IDA findings show ...  \n",
       "3  You can visit any Singtel shop check out our w...  \n",
       "4  Please refer to the available Broadband plans ...  "
      ]
     },
     "execution_count": 3,
     "metadata": {},
     "output_type": "execute_result"
    }
   ],
   "source": [
    "# Load Singtel's FAQ data as Training data, FAQ question as input and FAQ answers as labels\n",
    "train_data.columns = ['Question','Answer']\n",
    "train_data.head()"
   ]
  },
  {
   "cell_type": "code",
   "execution_count": 4,
   "metadata": {},
   "outputs": [
    {
     "data": {
      "text/plain": [
       "(194, 2)"
      ]
     },
     "execution_count": 4,
     "metadata": {},
     "output_type": "execute_result"
    }
   ],
   "source": [
    "train_data.shape"
   ]
  },
  {
   "cell_type": "code",
   "execution_count": 5,
   "metadata": {},
   "outputs": [
    {
     "data": {
      "text/html": [
       "<div>\n",
       "<style scoped>\n",
       "    .dataframe tbody tr th:only-of-type {\n",
       "        vertical-align: middle;\n",
       "    }\n",
       "\n",
       "    .dataframe tbody tr th {\n",
       "        vertical-align: top;\n",
       "    }\n",
       "\n",
       "    .dataframe thead th {\n",
       "        text-align: right;\n",
       "    }\n",
       "</style>\n",
       "<table border=\"1\" class=\"dataframe\">\n",
       "  <thead>\n",
       "    <tr style=\"text-align: right;\">\n",
       "      <th></th>\n",
       "      <th>Questions</th>\n",
       "      <th>FAQ Question</th>\n",
       "      <th>Answers</th>\n",
       "    </tr>\n",
       "  </thead>\n",
       "  <tbody>\n",
       "    <tr>\n",
       "      <th>0</th>\n",
       "      <td>Can I subscribe for DataMore?</td>\n",
       "      <td>Am I eligible for DataMore?</td>\n",
       "      <td>Yes if you are on Singtel Combo Mobile plans.</td>\n",
       "    </tr>\n",
       "    <tr>\n",
       "      <th>1</th>\n",
       "      <td>Can I keep my current ID if I change my servic...</td>\n",
       "      <td>Can I maintain my existing user ID if I am to ...</td>\n",
       "      <td>For Dial-up customers you will be able to reta...</td>\n",
       "    </tr>\n",
       "    <tr>\n",
       "      <th>2</th>\n",
       "      <td>Can I use my own equipment instead of the one ...</td>\n",
       "      <td>Can I purchase my own equipment instead of usi...</td>\n",
       "      <td>AllÂ necessary equipment to enable your Singte...</td>\n",
       "    </tr>\n",
       "    <tr>\n",
       "      <th>3</th>\n",
       "      <td>Can I get a microSIM card with MobileShare Sup...</td>\n",
       "      <td>Can I request for the microSIM card when I sig...</td>\n",
       "      <td>Yes you can.</td>\n",
       "    </tr>\n",
       "    <tr>\n",
       "      <th>4</th>\n",
       "      <td>Can I postpone the installation of Fibre?</td>\n",
       "      <td>Can I reschedule my Singtel Fibre installation?</td>\n",
       "      <td>Yes. You can reschedule your Singtel Fibre ins...</td>\n",
       "    </tr>\n",
       "  </tbody>\n",
       "</table>\n",
       "</div>"
      ],
      "text/plain": [
       "                                           Questions  \\\n",
       "0                      Can I subscribe for DataMore?   \n",
       "1  Can I keep my current ID if I change my servic...   \n",
       "2  Can I use my own equipment instead of the one ...   \n",
       "3  Can I get a microSIM card with MobileShare Sup...   \n",
       "4          Can I postpone the installation of Fibre?   \n",
       "\n",
       "                                        FAQ Question  \\\n",
       "0                        Am I eligible for DataMore?   \n",
       "1  Can I maintain my existing user ID if I am to ...   \n",
       "2  Can I purchase my own equipment instead of usi...   \n",
       "3  Can I request for the microSIM card when I sig...   \n",
       "4    Can I reschedule my Singtel Fibre installation?   \n",
       "\n",
       "                                             Answers  \n",
       "0      Yes if you are on Singtel Combo Mobile plans.  \n",
       "1  For Dial-up customers you will be able to reta...  \n",
       "2  AllÂ necessary equipment to enable your Singte...  \n",
       "3                                       Yes you can.  \n",
       "4  Yes. You can reschedule your Singtel Fibre ins...  "
      ]
     },
     "execution_count": 5,
     "metadata": {},
     "output_type": "execute_result"
    }
   ],
   "source": [
    "# Load similar questions as Testing Data with the tagged FAQ answer as the labels\n",
    "test_data.head()"
   ]
  },
  {
   "cell_type": "code",
   "execution_count": 6,
   "metadata": {},
   "outputs": [
    {
     "data": {
      "text/plain": [
       "(99, 3)"
      ]
     },
     "execution_count": 6,
     "metadata": {},
     "output_type": "execute_result"
    }
   ],
   "source": [
    "test_data.shape"
   ]
  },
  {
   "cell_type": "code",
   "execution_count": 7,
   "metadata": {},
   "outputs": [],
   "source": [
    "X_train = train_data['Question']\n",
    "y_train = train_data['Answer']\n",
    "X_test = test_data['Questions']\n",
    "y_test = test_data['Answers']"
   ]
  },
  {
   "cell_type": "markdown",
   "metadata": {},
   "source": [
    "## Method for Evaluation"
   ]
  },
  {
   "cell_type": "code",
   "execution_count": 8,
   "metadata": {},
   "outputs": [],
   "source": [
    "from sklearn import metrics\n",
    "from sklearn.feature_extraction.text import TfidfVectorizer\n",
    "from sklearn.naive_bayes import MultinomialNB, BernoulliNB\n",
    "from sklearn.feature_extraction.text import CountVectorizer"
   ]
  },
  {
   "cell_type": "code",
   "execution_count": 9,
   "metadata": {},
   "outputs": [],
   "source": [
    "# define a function that accepts a vectorizer and calculates the accuracy\n",
    "def tokenize_test(vect, X_train, X_test, y_train, y_test, model):\n",
    "    \n",
    "    # create document-term matrices using the vectorizer\n",
    "    X_train_dtm = vect.fit_transform(X_train)\n",
    "    X_test_dtm = vect.transform(X_test)\n",
    "    \n",
    "    # print the number of features that were generated\n",
    "    print('Features: ', X_train_dtm.shape[1])\n",
    "    # use Multinomial Naive Bayes to predict\n",
    "    nb = model\n",
    "    nb.fit(X_train_dtm, y_train)\n",
    "    y_pred_class = nb.predict(X_test_dtm)\n",
    "    \n",
    "    # Get the training accuracy\n",
    "    print('Training Accuracy: ', metrics.accuracy_score(y_train, nb.predict(X_train_dtm)))\n",
    "    # print the accuracy of its predictions\n",
    "    print('Test Accuracy: ', metrics.accuracy_score(y_test, y_pred_class))"
   ]
  },
  {
   "cell_type": "markdown",
   "metadata": {},
   "source": [
    "# 2 Main Approachs: ML and Distance Similarity"
   ]
  },
  {
   "cell_type": "markdown",
   "metadata": {},
   "source": [
    "# ML Method\n",
    "## Model #1 CountVectorizer (Stopwords, Lower)"
   ]
  },
  {
   "cell_type": "code",
   "execution_count": 15,
   "metadata": {},
   "outputs": [
    {
     "name": "stdout",
     "output_type": "stream",
     "text": [
      "Features:  349\n",
      "Training Accuracy:  0.8041237113402062\n",
      "Test Accuracy:  0.21212121212121213\n"
     ]
    }
   ],
   "source": [
    "vectorizer = CountVectorizer(stop_words='english', lowercase=True)\n",
    "tokenize_test(vectorizer, X_train, X_test, y_train, y_test, MultinomialNB())"
   ]
  },
  {
   "cell_type": "markdown",
   "metadata": {},
   "source": [
    "## Model #2 TF-IDF (Stopwords, Lower)"
   ]
  },
  {
   "cell_type": "code",
   "execution_count": 16,
   "metadata": {},
   "outputs": [
    {
     "name": "stdout",
     "output_type": "stream",
     "text": [
      "Features:  349\n",
      "Training Accuracy:  0.13917525773195877\n",
      "Test Accuracy:  0.010101010101010102\n"
     ]
    }
   ],
   "source": [
    "vectorizer = TfidfVectorizer(stop_words='english', lowercase=True)\n",
    "tokenize_test(vectorizer, X_train, X_test, y_train, y_test, MultinomialNB())"
   ]
  },
  {
   "cell_type": "markdown",
   "metadata": {},
   "source": [
    "We can observe that both training and testing accuracy dropped drastically after using IDF. We will attempt tuning."
   ]
  },
  {
   "cell_type": "markdown",
   "metadata": {},
   "source": [
    "## Model #3 TF-IDF (Stopwords, Lower, Norm=None)"
   ]
  },
  {
   "cell_type": "code",
   "execution_count": 17,
   "metadata": {},
   "outputs": [
    {
     "name": "stdout",
     "output_type": "stream",
     "text": [
      "Features:  349\n",
      "Training Accuracy:  0.979381443298969\n",
      "Test Accuracy:  0.37373737373737376\n"
     ]
    }
   ],
   "source": [
    "vectorizer = TfidfVectorizer(stop_words='english', lowercase=True, norm=None)\n",
    "tokenize_test(vectorizer, X_train, X_test, y_train, y_test, MultinomialNB())"
   ]
  },
  {
   "cell_type": "markdown",
   "metadata": {},
   "source": [
    "Accuracy for training improved by 17% and for test improved by 16% as compared to using CountVectorizer. We will next explore using binary count of features and BernoulliNB. As counting 1 or 0 for presence of words makes sense here as questions are usually rather short, about 1 sentence long. Hence, avoiding repetition could help to remove noise."
   ]
  },
  {
   "cell_type": "markdown",
   "metadata": {},
   "source": [
    "## Model #4 CountVectorizer (Stopwords, Lower, Binary) using Bernoulli"
   ]
  },
  {
   "cell_type": "code",
   "execution_count": 18,
   "metadata": {},
   "outputs": [
    {
     "name": "stdout",
     "output_type": "stream",
     "text": [
      "Features:  349\n",
      "Training Accuracy:  0.0979381443298969\n",
      "Test Accuracy:  0.010101010101010102\n"
     ]
    }
   ],
   "source": [
    "vectorizer = CountVectorizer(stop_words='english', lowercase=True, binary=True)\n",
    "tokenize_test(vectorizer, X_train, X_test, y_train, y_test, BernoulliNB())"
   ]
  },
  {
   "cell_type": "markdown",
   "metadata": {},
   "source": [
    "Based on the test accuracy, we can infer that this method might not be very robust. Hence, we will focus on using TfIdfVectorizer."
   ]
  },
  {
   "cell_type": "markdown",
   "metadata": {},
   "source": [
    "## Model #5 TfidfVectorizer (Stopwords, Lower, Norm=None, Uni & Bi-gram)"
   ]
  },
  {
   "cell_type": "code",
   "execution_count": 20,
   "metadata": {
    "scrolled": true
   },
   "outputs": [
    {
     "name": "stdout",
     "output_type": "stream",
     "text": [
      "Features:  978\n",
      "Training Accuracy:  0.9845360824742269\n",
      "Test Accuracy:  0.35353535353535354\n"
     ]
    }
   ],
   "source": [
    "vectorizer = TfidfVectorizer(stop_words='english', lowercase=True,norm=None,ngram_range = (1,2))\n",
    "tokenize_test(vectorizer, X_train, X_test, y_train, y_test, MultinomialNB())"
   ]
  },
  {
   "cell_type": "markdown",
   "metadata": {},
   "source": [
    "Using both uni-gram and bi-gram helped to improve training accuracy but decreases test accuracy slightly. However, as our main focus is creating a robust model, thus we will not include bi-gram."
   ]
  },
  {
   "cell_type": "markdown",
   "metadata": {},
   "source": [
    "## Model #6 TfidfVectorizer (Stopwords, Lower, Norm=None, Lemmatisation)"
   ]
  },
  {
   "cell_type": "code",
   "execution_count": 21,
   "metadata": {},
   "outputs": [],
   "source": [
    "from nltk.stem import PorterStemmer"
   ]
  },
  {
   "cell_type": "code",
   "execution_count": 22,
   "metadata": {},
   "outputs": [],
   "source": [
    "porter = PorterStemmer()"
   ]
  },
  {
   "cell_type": "code",
   "execution_count": 23,
   "metadata": {},
   "outputs": [],
   "source": [
    "X_train_lemma = [' '.join(list(map(lambda x: porter.stem(x), sent.split()))) for sent in X_train]\n",
    "X_test_lemma = [' '.join(list(map(lambda x: porter.stem(x), sent.split()))) for sent in X_test]"
   ]
  },
  {
   "cell_type": "code",
   "execution_count": 24,
   "metadata": {},
   "outputs": [
    {
     "name": "stdout",
     "output_type": "stream",
     "text": [
      "Features:  355\n",
      "Training Accuracy:  0.9845360824742269\n",
      "Test Accuracy:  0.3838383838383838\n"
     ]
    }
   ],
   "source": [
    "vectorizer = TfidfVectorizer(stop_words='english', lowercase=True, norm=None)\n",
    "tokenize_test(vectorizer, X_train_lemma, X_test_lemma, y_train, y_test, MultinomialNB())"
   ]
  },
  {
   "cell_type": "markdown",
   "metadata": {},
   "source": [
    "Based on the results, we can infer that lemmatisation does help with robustness. Next, we can experiment with POS Tagging to take only Nouns + Adj."
   ]
  },
  {
   "cell_type": "markdown",
   "metadata": {},
   "source": [
    "## Model #7 TfidfVectorizer (Stopwords, Lower, Norm=None, Lemmatisation, POS Tagging)"
   ]
  },
  {
   "cell_type": "code",
   "execution_count": 25,
   "metadata": {},
   "outputs": [],
   "source": [
    "import nltk"
   ]
  },
  {
   "cell_type": "code",
   "execution_count": 26,
   "metadata": {},
   "outputs": [],
   "source": [
    "def posRemoval(sentence):\n",
    "    tokens = nltk.word_tokenize(sentence)\n",
    "    pos_tokens = nltk.pos_tag(tokens)\n",
    "    # Return selected words if is Noun or Adj\n",
    "    filt_words = list(filter(lambda x: x[1] in ['NN','NNS','NNPS','NNP','JJ','JJR','JJS'], pos_tokens))\n",
    "    rem_sent = \" \".join([word[0] for word in filt_words])\n",
    "    return rem_sent"
   ]
  },
  {
   "cell_type": "code",
   "execution_count": 27,
   "metadata": {},
   "outputs": [],
   "source": [
    "X_train_pos = [posRemoval(sent) for sent in X_train_lemma]\n",
    "X_test_pos = [posRemoval(sent) for sent in X_test_lemma]"
   ]
  },
  {
   "cell_type": "code",
   "execution_count": 28,
   "metadata": {
    "scrolled": true
   },
   "outputs": [
    {
     "name": "stdout",
     "output_type": "stream",
     "text": [
      "Features:  277\n",
      "Training Accuracy:  0.9329896907216495\n",
      "Test Accuracy:  0.2727272727272727\n"
     ]
    }
   ],
   "source": [
    "vectorizer = TfidfVectorizer(stop_words='english', lowercase=True, norm=None)\n",
    "tokenize_test(vectorizer, X_train_pos, X_test_pos, y_train, y_test, MultinomialNB())"
   ]
  },
  {
   "cell_type": "markdown",
   "metadata": {},
   "source": [
    "Using POS Tagging affects our scoring negatively for both training and testing, hence, we will not use POS Tagging. Next, we can attempt a different model for classification."
   ]
  },
  {
   "cell_type": "markdown",
   "metadata": {},
   "source": [
    "## Model #8 SVC"
   ]
  },
  {
   "cell_type": "code",
   "execution_count": 29,
   "metadata": {},
   "outputs": [],
   "source": [
    "from sklearn.svm import LinearSVC"
   ]
  },
  {
   "cell_type": "code",
   "execution_count": 30,
   "metadata": {},
   "outputs": [],
   "source": [
    "# define a function that accepts a vectorizer and calculates the accuracy\n",
    "def tokenize_test_svm(vect, X_train, X_test, y_train, y_test):\n",
    "    \n",
    "    # create document-term matrices using the vectorizer\n",
    "    X_train_dtm = vect.fit_transform(X_train)\n",
    "    X_test_dtm = vect.transform(X_test)\n",
    "    \n",
    "    # print the number of features that were generated\n",
    "    print('Features: ', X_train_dtm.shape[1])\n",
    "    \n",
    "    # use SVM to predict\n",
    "    svm = LinearSVC()\n",
    "    svm.fit(X_train_dtm, y_train)\n",
    "    y_pred_class = svm.predict(X_test_dtm)\n",
    "    \n",
    "    # Get the training accuracy\n",
    "    print('Training Accuracy: ', metrics.accuracy_score(y_train, svm.predict(X_train_dtm)))\n",
    "    # print the accuracy of its predictions\n",
    "    print('Test Accuracy: ', metrics.accuracy_score(y_test, y_pred_class))"
   ]
  },
  {
   "cell_type": "code",
   "execution_count": 31,
   "metadata": {
    "scrolled": true
   },
   "outputs": [
    {
     "name": "stdout",
     "output_type": "stream",
     "text": [
      "Features:  355\n",
      "Training Accuracy:  0.9896907216494846\n",
      "Test Accuracy:  0.30303030303030304\n"
     ]
    }
   ],
   "source": [
    "vectorizer = TfidfVectorizer(stop_words='english', lowercase=True, norm=None)\n",
    "tokenize_test_svm(vectorizer, X_train_lemma, X_test_lemma, y_train, y_test)"
   ]
  },
  {
   "cell_type": "markdown",
   "metadata": {},
   "source": [
    "No improvement in model despite different model being used. Therefore, we can conclude using Multinomial Naive Bayes as the model and preprocessing steps of removing stopwords, lowercase, tuning of model and lemmatisation provides the best results of 38.3%."
   ]
  },
  {
   "cell_type": "markdown",
   "metadata": {},
   "source": [
    "# Distance Method\n",
    "As we are using a different method, our input will be questions similiar to FAQ questions and our label will be the FAQ questions. Evaluation is done by comparing if the question can be answered by a specific FAQ question."
   ]
  },
  {
   "cell_type": "code",
   "execution_count": 118,
   "metadata": {},
   "outputs": [],
   "source": [
    "X = test_data['Questions']\n",
    "faq_qns = pd.DataFrame({'FAQ Question':train_data['Question']})\n",
    "y =test_data['FAQ Question']"
   ]
  },
  {
   "cell_type": "code",
   "execution_count": 119,
   "metadata": {},
   "outputs": [],
   "source": [
    "# Convert sentence into 300-d vector\n",
    "class PhraseVector:\n",
    "    def __init__(self, phrase):\n",
    "        self.vector = self.PhraseToVec(phrase)\n",
    "        \n",
    "    def ConvertVectorSetToVecAverageBased(self, vectorSet, ignore = []):\n",
    "        if len(ignore) == 0: \n",
    "            return np.mean(vectorSet, axis = 0)\n",
    "        else: \n",
    "            return np.dot(np.transpose(vectorSet),ignore)/sum(ignore)\n",
    "\n",
    "    def PhraseToVec(self, phrase):\n",
    "        cachedStopWords = stopwords.words(\"english\")\n",
    "        phrase = phrase.lower()\n",
    "        wordsInPhrase = [word for word in phrase.split() if word not in cachedStopWords]\n",
    "        vectorSet = []\n",
    "        for aWord in wordsInPhrase:\n",
    "            try:\n",
    "                wordVector=model1[aWord]\n",
    "                vectorSet.append(wordVector)\n",
    "            except:\n",
    "                pass\n",
    "        return self.ConvertVectorSetToVecAverageBased(vectorSet)\n",
    "    \n",
    "    # Cosine Similarity to determine how close two questions are\n",
    "    def CosineSimilarity(self, otherPhraseVec):\n",
    "        cosine_similarity = np.dot(self.vector, otherPhraseVec) / (np.linalg.norm(self.vector) * np.linalg.norm(otherPhraseVec))\n",
    "        try:\n",
    "            if math.isnan(cosine_similarity):\n",
    "                cosine_similarity=0\n",
    "        except:\n",
    "            cosine_similarity=0\n",
    "        return cosine_similarity"
   ]
  },
  {
   "cell_type": "code",
   "execution_count": 120,
   "metadata": {},
   "outputs": [],
   "source": [
    "# Get closest FAQ question based on input\n",
    "def simQuestion(text, faq_qna):\n",
    "    qn_df = faq_qna.copy()\n",
    "    text_qn = PhraseVector(text)\n",
    "    qn_df['scoring'] = [text_qn.CosineSimilarity(PhraseVector(qn).vector) for qn in qn_df['FAQ Question']]\n",
    "    max_row = qn_df.sort_values(by=['scoring'], ascending=False).iloc[0,:]\n",
    "    return max_row['FAQ Question']"
   ]
  },
  {
   "cell_type": "code",
   "execution_count": 121,
   "metadata": {},
   "outputs": [],
   "source": [
    "def evalData(input_qns, actual_match_qns, faq_qns):\n",
    "    y_pred_class = [simQuestion(qn, faq_qns) for qn in input_qns]\n",
    "    print('Accuracy: ', metrics.accuracy_score(actual_match_qns, y_pred_class))\n",
    "    return pd.DataFrame({'Input':input_qns, 'Output':y_pred_class,'Actual':actual_match_qns})"
   ]
  },
  {
   "cell_type": "markdown",
   "metadata": {},
   "source": [
    "## Model #8 Sentence Similarity (Google 300-dimension Vector)"
   ]
  },
  {
   "cell_type": "code",
   "execution_count": 122,
   "metadata": {},
   "outputs": [
    {
     "name": "stderr",
     "output_type": "stream",
     "text": [
      "C:\\Users\\yongz\\Anaconda3\\lib\\site-packages\\numpy\\core\\fromnumeric.py:2920: RuntimeWarning: Mean of empty slice.\n",
      "  out=out, **kwargs)\n",
      "C:\\Users\\yongz\\Anaconda3\\lib\\site-packages\\numpy\\core\\_methods.py:85: RuntimeWarning: invalid value encountered in double_scalars\n",
      "  ret = ret.dtype.type(ret / rcount)\n"
     ]
    },
    {
     "name": "stdout",
     "output_type": "stream",
     "text": [
      "Accuracy:  0.41414141414141414\n"
     ]
    }
   ],
   "source": [
    "output_df = evalData(X, y, faq_qns)"
   ]
  },
  {
   "cell_type": "code",
   "execution_count": 123,
   "metadata": {},
   "outputs": [
    {
     "data": {
      "text/html": [
       "<div>\n",
       "<style scoped>\n",
       "    .dataframe tbody tr th:only-of-type {\n",
       "        vertical-align: middle;\n",
       "    }\n",
       "\n",
       "    .dataframe tbody tr th {\n",
       "        vertical-align: top;\n",
       "    }\n",
       "\n",
       "    .dataframe thead th {\n",
       "        text-align: right;\n",
       "    }\n",
       "</style>\n",
       "<table border=\"1\" class=\"dataframe\">\n",
       "  <thead>\n",
       "    <tr style=\"text-align: right;\">\n",
       "      <th></th>\n",
       "      <th>Input</th>\n",
       "      <th>Output</th>\n",
       "      <th>Actual</th>\n",
       "    </tr>\n",
       "  </thead>\n",
       "  <tbody>\n",
       "    <tr>\n",
       "      <th>0</th>\n",
       "      <td>Can I subscribe for DataMore?</td>\n",
       "      <td>Who can subscribe for MobileShare Supplementar...</td>\n",
       "      <td>Am I eligible for DataMore?</td>\n",
       "    </tr>\n",
       "    <tr>\n",
       "      <th>1</th>\n",
       "      <td>Can I keep my current ID if I change my servic...</td>\n",
       "      <td>What should I do if I change my phone?</td>\n",
       "      <td>Can I maintain my existing user ID if I am to ...</td>\n",
       "    </tr>\n",
       "    <tr>\n",
       "      <th>4</th>\n",
       "      <td>Can I postpone the installation of Fibre?</td>\n",
       "      <td>When can I request for installation to take pl...</td>\n",
       "      <td>Can I reschedule my Singtel Fibre installation?</td>\n",
       "    </tr>\n",
       "    <tr>\n",
       "      <th>5</th>\n",
       "      <td>Can I install the Fibre myself?</td>\n",
       "      <td>How can I change my installation appointment?</td>\n",
       "      <td>Can I self-install my Singtel Fibre Broadband ...</td>\n",
       "    </tr>\n",
       "    <tr>\n",
       "      <th>7</th>\n",
       "      <td>Can I call with my Mobileshare line while bein...</td>\n",
       "      <td>Why am I unable to call the WatchPhone?</td>\n",
       "      <td>Can I use my MobileShare line when I travel ov...</td>\n",
       "    </tr>\n",
       "    <tr>\n",
       "      <th>8</th>\n",
       "      <td>Can I subscripbe for DataMore in addition to m...</td>\n",
       "      <td>What do I do with my Trackimo Device when I fi...</td>\n",
       "      <td>Can my MobileShare supplementary line sign up ...</td>\n",
       "    </tr>\n",
       "    <tr>\n",
       "      <th>9</th>\n",
       "      <td>Can I keep my current ID if I change my servic...</td>\n",
       "      <td>I am currently on the 300M Fibre Entertainment...</td>\n",
       "      <td>Do I need to change out my current SNBB UserID...</td>\n",
       "    </tr>\n",
       "    <tr>\n",
       "      <th>10</th>\n",
       "      <td>How to activate my Singtel service?</td>\n",
       "      <td>How can I activate my hi!DataRoam plan?</td>\n",
       "      <td>How can I activate my Singtel IDD services?</td>\n",
       "    </tr>\n",
       "    <tr>\n",
       "      <th>11</th>\n",
       "      <td>Can I call when I travel abroad with my prepai...</td>\n",
       "      <td>How do I make an overseas call from Singapore ...</td>\n",
       "      <td>How can I make calls from my prepaid card whil...</td>\n",
       "    </tr>\n",
       "    <tr>\n",
       "      <th>12</th>\n",
       "      <td>How can I see my Singtel balance?</td>\n",
       "      <td>How do I know if I have any Singtel Vouchers?</td>\n",
       "      <td>How do I check my outstanding balance for my S...</td>\n",
       "    </tr>\n",
       "    <tr>\n",
       "      <th>15</th>\n",
       "      <td>How to subscribe to Video on Demand?</td>\n",
       "      <td>Who can subscribe for MobileShare Supplementar...</td>\n",
       "      <td>How do I purchase Video on Demand on Singtel TV?</td>\n",
       "    </tr>\n",
       "    <tr>\n",
       "      <th>16</th>\n",
       "      <td>How to change my adress?</td>\n",
       "      <td>What should I do if I change my phone?</td>\n",
       "      <td>How do I update my billing/mailing address?</td>\n",
       "    </tr>\n",
       "    <tr>\n",
       "      <th>17</th>\n",
       "      <td>What is the range of Trackimo ?</td>\n",
       "      <td>Can I use my MobileShare line when I travel ov...</td>\n",
       "      <td>How far will my Trackimo track or locate?</td>\n",
       "    </tr>\n",
       "    <tr>\n",
       "      <th>18</th>\n",
       "      <td>How long is the installation?</td>\n",
       "      <td>How long does the battery last?</td>\n",
       "      <td>How long would the installation take?</td>\n",
       "    </tr>\n",
       "    <tr>\n",
       "      <th>21</th>\n",
       "      <td>Internet doesn't work. What to solve this?</td>\n",
       "      <td>Unable to connect to Internet</td>\n",
       "      <td>I cannot connect to the internet. What should ...</td>\n",
       "    </tr>\n",
       "    <tr>\n",
       "      <th>24</th>\n",
       "      <td>I bough a MobileShare line for my child. How a...</td>\n",
       "      <td>Can my MobileShare supplementary line sign up ...</td>\n",
       "      <td>I have given my child a MobileShare line. How ...</td>\n",
       "    </tr>\n",
       "    <tr>\n",
       "      <th>26</th>\n",
       "      <td>My problem wasn't solved by the on-site assess...</td>\n",
       "      <td>If Singtel on-site assessment still unable to ...</td>\n",
       "      <td>I was told by the engineer that the cause of t...</td>\n",
       "    </tr>\n",
       "    <tr>\n",
       "      <th>27</th>\n",
       "      <td>How to buy Singtel Fibre Broadband ?</td>\n",
       "      <td>I am currently a Singtel Home Broadband subscr...</td>\n",
       "      <td>I'm interested in Singtel Fibre Broadband serv...</td>\n",
       "    </tr>\n",
       "    <tr>\n",
       "      <th>28</th>\n",
       "      <td>I am moving and I want to keep my service in m...</td>\n",
       "      <td>I want to change/reset my broadband/WiFi passw...</td>\n",
       "      <td>I'm moving and need to relocate my services. H...</td>\n",
       "    </tr>\n",
       "    <tr>\n",
       "      <th>29</th>\n",
       "      <td>Who can I contact for a Singtel Connected Thin...</td>\n",
       "      <td>Can I use the Singtel Connected Things  app ov...</td>\n",
       "      <td>If I have problems with the Singtel Connected ...</td>\n",
       "    </tr>\n",
       "    <tr>\n",
       "      <th>32</th>\n",
       "      <td>Do we need to pay for DataMore?</td>\n",
       "      <td>What do I need to prepare before renovation?</td>\n",
       "      <td>Is there a registration fee for signing up Dat...</td>\n",
       "    </tr>\n",
       "    <tr>\n",
       "      <th>37</th>\n",
       "      <td>I can't receive emails</td>\n",
       "      <td>I don’t have a corporate email address or cann...</td>\n",
       "      <td>Unable to send/receive emails on Outlook</td>\n",
       "    </tr>\n",
       "    <tr>\n",
       "      <th>38</th>\n",
       "      <td>Signtel TV doesn't work</td>\n",
       "      <td>How do I retrieve my Singtel TV number?</td>\n",
       "      <td>Unable to view Singtel TV</td>\n",
       "    </tr>\n",
       "    <tr>\n",
       "      <th>40</th>\n",
       "      <td>How much is the installation?</td>\n",
       "      <td>How far will my Trackimo track or locate?</td>\n",
       "      <td>What are the installation charges like?</td>\n",
       "    </tr>\n",
       "    <tr>\n",
       "      <th>42</th>\n",
       "      <td>What equipment do we need for the Fibre?</td>\n",
       "      <td>What happens if any of the equipment is damaged?</td>\n",
       "      <td>What equipment is required to enable my Singte...</td>\n",
       "    </tr>\n",
       "    <tr>\n",
       "      <th>45</th>\n",
       "      <td>How do we install the equipment?</td>\n",
       "      <td>How can I change my installation appointment?</td>\n",
       "      <td>What is the process of installation?</td>\n",
       "    </tr>\n",
       "    <tr>\n",
       "      <th>46</th>\n",
       "      <td>What are the different service plan with Singt...</td>\n",
       "      <td>Can I upgrade my Singtel Fibre Broadband servi...</td>\n",
       "      <td>What service plans are available if I want to ...</td>\n",
       "    </tr>\n",
       "    <tr>\n",
       "      <th>47</th>\n",
       "      <td>What are the fibre broadband plans?</td>\n",
       "      <td>Can I self-install my Singtel Fibre Broadband ...</td>\n",
       "      <td>What service plans are available if I want to ...</td>\n",
       "    </tr>\n",
       "    <tr>\n",
       "      <th>49</th>\n",
       "      <td>When can I ask for installation?</td>\n",
       "      <td>How do I know if I have any Singtel Vouchers?</td>\n",
       "      <td>When can I request for installation to take pl...</td>\n",
       "    </tr>\n",
       "    <tr>\n",
       "      <th>52</th>\n",
       "      <td>Will I be charged if I get change my broadband...</td>\n",
       "      <td>I am currently a Singtel Home Broadband subscr...</td>\n",
       "      <td>Will there be any charges for conversion if I ...</td>\n",
       "    </tr>\n",
       "  </tbody>\n",
       "</table>\n",
       "</div>"
      ],
      "text/plain": [
       "                                                Input  \\\n",
       "0                       Can I subscribe for DataMore?   \n",
       "1   Can I keep my current ID if I change my servic...   \n",
       "4           Can I postpone the installation of Fibre?   \n",
       "5                     Can I install the Fibre myself?   \n",
       "7   Can I call with my Mobileshare line while bein...   \n",
       "8   Can I subscripbe for DataMore in addition to m...   \n",
       "9   Can I keep my current ID if I change my servic...   \n",
       "10                How to activate my Singtel service?   \n",
       "11  Can I call when I travel abroad with my prepai...   \n",
       "12                  How can I see my Singtel balance?   \n",
       "15               How to subscribe to Video on Demand?   \n",
       "16                           How to change my adress?   \n",
       "17                    What is the range of Trackimo ?   \n",
       "18                      How long is the installation?   \n",
       "21         Internet doesn't work. What to solve this?   \n",
       "24  I bough a MobileShare line for my child. How a...   \n",
       "26  My problem wasn't solved by the on-site assess...   \n",
       "27               How to buy Singtel Fibre Broadband ?   \n",
       "28  I am moving and I want to keep my service in m...   \n",
       "29  Who can I contact for a Singtel Connected Thin...   \n",
       "32                    Do we need to pay for DataMore?   \n",
       "37                             I can't receive emails   \n",
       "38                            Signtel TV doesn't work   \n",
       "40                      How much is the installation?   \n",
       "42           What equipment do we need for the Fibre?   \n",
       "45                   How do we install the equipment?   \n",
       "46  What are the different service plan with Singt...   \n",
       "47                What are the fibre broadband plans?   \n",
       "49                   When can I ask for installation?   \n",
       "52  Will I be charged if I get change my broadband...   \n",
       "\n",
       "                                               Output  \\\n",
       "0   Who can subscribe for MobileShare Supplementar...   \n",
       "1              What should I do if I change my phone?   \n",
       "4   When can I request for installation to take pl...   \n",
       "5       How can I change my installation appointment?   \n",
       "7             Why am I unable to call the WatchPhone?   \n",
       "8   What do I do with my Trackimo Device when I fi...   \n",
       "9   I am currently on the 300M Fibre Entertainment...   \n",
       "10            How can I activate my hi!DataRoam plan?   \n",
       "11  How do I make an overseas call from Singapore ...   \n",
       "12      How do I know if I have any Singtel Vouchers?   \n",
       "15  Who can subscribe for MobileShare Supplementar...   \n",
       "16             What should I do if I change my phone?   \n",
       "17  Can I use my MobileShare line when I travel ov...   \n",
       "18                    How long does the battery last?   \n",
       "21                      Unable to connect to Internet   \n",
       "24  Can my MobileShare supplementary line sign up ...   \n",
       "26  If Singtel on-site assessment still unable to ...   \n",
       "27  I am currently a Singtel Home Broadband subscr...   \n",
       "28  I want to change/reset my broadband/WiFi passw...   \n",
       "29  Can I use the Singtel Connected Things  app ov...   \n",
       "32       What do I need to prepare before renovation?   \n",
       "37  I don’t have a corporate email address or cann...   \n",
       "38            How do I retrieve my Singtel TV number?   \n",
       "40          How far will my Trackimo track or locate?   \n",
       "42   What happens if any of the equipment is damaged?   \n",
       "45      How can I change my installation appointment?   \n",
       "46  Can I upgrade my Singtel Fibre Broadband servi...   \n",
       "47  Can I self-install my Singtel Fibre Broadband ...   \n",
       "49      How do I know if I have any Singtel Vouchers?   \n",
       "52  I am currently a Singtel Home Broadband subscr...   \n",
       "\n",
       "                                               Actual  \n",
       "0                         Am I eligible for DataMore?  \n",
       "1   Can I maintain my existing user ID if I am to ...  \n",
       "4     Can I reschedule my Singtel Fibre installation?  \n",
       "5   Can I self-install my Singtel Fibre Broadband ...  \n",
       "7   Can I use my MobileShare line when I travel ov...  \n",
       "8   Can my MobileShare supplementary line sign up ...  \n",
       "9   Do I need to change out my current SNBB UserID...  \n",
       "10        How can I activate my Singtel IDD services?  \n",
       "11  How can I make calls from my prepaid card whil...  \n",
       "12  How do I check my outstanding balance for my S...  \n",
       "15   How do I purchase Video on Demand on Singtel TV?  \n",
       "16        How do I update my billing/mailing address?  \n",
       "17          How far will my Trackimo track or locate?  \n",
       "18              How long would the installation take?  \n",
       "21  I cannot connect to the internet. What should ...  \n",
       "24  I have given my child a MobileShare line. How ...  \n",
       "26  I was told by the engineer that the cause of t...  \n",
       "27  I'm interested in Singtel Fibre Broadband serv...  \n",
       "28  I'm moving and need to relocate my services. H...  \n",
       "29  If I have problems with the Singtel Connected ...  \n",
       "32  Is there a registration fee for signing up Dat...  \n",
       "37           Unable to send/receive emails on Outlook  \n",
       "38                          Unable to view Singtel TV  \n",
       "40            What are the installation charges like?  \n",
       "42  What equipment is required to enable my Singte...  \n",
       "45               What is the process of installation?  \n",
       "46  What service plans are available if I want to ...  \n",
       "47  What service plans are available if I want to ...  \n",
       "49  When can I request for installation to take pl...  \n",
       "52  Will there be any charges for conversion if I ...  "
      ]
     },
     "execution_count": 123,
     "metadata": {},
     "output_type": "execute_result"
    }
   ],
   "source": [
    "#Look at wrongly classified groups\n",
    "output_df[output_df['Output']!=output_df['Actual']].head(30)"
   ]
  },
  {
   "cell_type": "markdown",
   "metadata": {},
   "source": [
    "This model gives an accuracy of 41.4% which is decent. However, we observe some of errors that are quite close to the actual labels. We can also try to adopt POS Tagging approach to eliminate non-Nouns and non-Adj words."
   ]
  },
  {
   "cell_type": "markdown",
   "metadata": {},
   "source": [
    "## Model #9 Sentence Similarity (Google 300-dimension Vector + POS Tagging)"
   ]
  },
  {
   "cell_type": "code",
   "execution_count": 124,
   "metadata": {},
   "outputs": [],
   "source": [
    "def evalDataPos(input_qns, actual_match_qns, faq_qns):\n",
    "    input_qns_pos = [posRemoval(sent) for sent in input_qns]\n",
    "    faq_qns_pos = faq_qns.copy()\n",
    "    faq_qns_pos['FAQ Question'] = [posRemoval(sent) for sent in faq_qns['FAQ Question']]\n",
    "    y_pred_class = [simQuestion(qn, faq_qns_pos) for qn in input_qns_pos]\n",
    "    actual_match_qns_pos = [posRemoval(sent) for sent in actual_match_qns]\n",
    "    print('Accuracy: ', metrics.accuracy_score(actual_match_qns_pos, y_pred_class))\n"
   ]
  },
  {
   "cell_type": "code",
   "execution_count": 125,
   "metadata": {},
   "outputs": [
    {
     "name": "stderr",
     "output_type": "stream",
     "text": [
      "C:\\Users\\yongz\\Anaconda3\\lib\\site-packages\\numpy\\core\\fromnumeric.py:2920: RuntimeWarning: Mean of empty slice.\n",
      "  out=out, **kwargs)\n",
      "C:\\Users\\yongz\\Anaconda3\\lib\\site-packages\\numpy\\core\\_methods.py:85: RuntimeWarning: invalid value encountered in double_scalars\n",
      "  ret = ret.dtype.type(ret / rcount)\n"
     ]
    },
    {
     "name": "stdout",
     "output_type": "stream",
     "text": [
      "Accuracy:  0.36363636363636365\n"
     ]
    }
   ],
   "source": [
    "evalDataPos(X, y, faq_qns)"
   ]
  },
  {
   "cell_type": "markdown",
   "metadata": {},
   "source": [
    "Based on the accuracy, we can understand why it lowers the accuracy because we have some questions that will have similar nouns and adjectives but different meaning behind. This results in misclassification in some cases."
   ]
  },
  {
   "cell_type": "markdown",
   "metadata": {},
   "source": [
    "## Model Selection\n",
    "All in all, we decided to choose Model #8 as it provides the best accuracy on test data (41.4%). This is critical for our application as we strive to be able handle paraphrasing of FAQ questions."
   ]
  }
 ],
 "metadata": {
  "kernelspec": {
   "display_name": "Python 3",
   "language": "python",
   "name": "python3"
  },
  "language_info": {
   "codemirror_mode": {
    "name": "ipython",
    "version": 3
   },
   "file_extension": ".py",
   "mimetype": "text/x-python",
   "name": "python",
   "nbconvert_exporter": "python",
   "pygments_lexer": "ipython3",
   "version": "3.7.0"
  }
 },
 "nbformat": 4,
 "nbformat_minor": 2
}
