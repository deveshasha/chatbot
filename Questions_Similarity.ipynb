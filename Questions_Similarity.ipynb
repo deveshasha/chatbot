{
  "nbformat": 4,
  "nbformat_minor": 0,
  "metadata": {
    "colab": {
      "name": "Questions Similarity.ipynb",
      "version": "0.3.2",
      "provenance": [],
      "collapsed_sections": []
    },
    "kernelspec": {
      "name": "python3",
      "display_name": "Python 3"
    }
  },
  "cells": [
    {
      "metadata": {
        "id": "kCIcwCbS-fd1",
        "colab_type": "code",
        "outputId": "946c0ae8-b699-4d72-9447-9ae9599f993f",
        "colab": {
          "base_uri": "https://localhost:8080/",
          "height": 122
        }
      },
      "cell_type": "code",
      "source": [
        "# mount google drive\n",
        "from google.colab import drive\n",
        "drive.mount('/content/drive')"
      ],
      "execution_count": 1,
      "outputs": [
        {
          "output_type": "stream",
          "text": [
            "Go to this URL in a browser: https://accounts.google.com/o/oauth2/auth?client_id=947318989803-6bn6qk8qdgf4n4g3pfee6491hc0brc4i.apps.googleusercontent.com&redirect_uri=urn%3Aietf%3Awg%3Aoauth%3A2.0%3Aoob&scope=email%20https%3A%2F%2Fwww.googleapis.com%2Fauth%2Fdocs.test%20https%3A%2F%2Fwww.googleapis.com%2Fauth%2Fdrive%20https%3A%2F%2Fwww.googleapis.com%2Fauth%2Fdrive.photos.readonly%20https%3A%2F%2Fwww.googleapis.com%2Fauth%2Fpeopleapi.readonly&response_type=code\n",
            "\n",
            "Enter your authorization code:\n",
            "··········\n",
            "Mounted at /content/drive\n"
          ],
          "name": "stdout"
        }
      ]
    },
    {
      "metadata": {
        "id": "it9-Rhyf_Uqi",
        "colab_type": "code",
        "colab": {}
      },
      "cell_type": "code",
      "source": [
        "import pandas as pd\n",
        "from nltk.corpus import stopwords\n",
        "import gensim\n",
        "from gensim.models import Word2Vec\n",
        "\n",
        "model = gensim.models.KeyedVectors.load_word2vec_format('/content/drive/My Drive/Colab Notebooks/GoogleNews-vectors-negative300.bin.gz', binary=True)\n",
        "model_n = gensim.models.KeyedVectors.load_word2vec_format('/content/drive/My Drive/Colab Notebooks/GoogleNews-vectors-negative300.bin.gz', binary=True) \n",
        "model_n.init_sims(replace=True) #normalized"
      ],
      "execution_count": 0,
      "outputs": []
    },
    {
      "metadata": {
        "id": "G1LVeV2fSjoW",
        "colab_type": "text"
      },
      "cell_type": "markdown",
      "source": [
        "**Read data from google drive:**"
      ]
    },
    {
      "metadata": {
        "id": "qT1l61h8_QQQ",
        "colab_type": "code",
        "colab": {}
      },
      "cell_type": "code",
      "source": [
        "qna = pd.read_csv('/content/drive/My Drive/Colab Notebooks/qna.csv', sep=',',header=None, usecols=[0])\n",
        "fb = pd.read_csv('/content/drive/My Drive/Colab Notebooks/singtel_fb_questions.csv', sep=',', usecols=[0])\n",
        "qna.columns = ['question']"
      ],
      "execution_count": 0,
      "outputs": []
    },
    {
      "metadata": {
        "id": "sMly7-mnStDN",
        "colab_type": "text"
      },
      "cell_type": "markdown",
      "source": [
        "**Obtain index of the final question in Q and A as well as in the Facebook posts that we scraped:**"
      ]
    },
    {
      "metadata": {
        "id": "tp-L0jmqCiu8",
        "colab_type": "code",
        "colab": {}
      },
      "cell_type": "code",
      "source": [
        "last_qna = qna.tail(1).index.item()\n",
        "last_fb = fb.tail(1).index.item()"
      ],
      "execution_count": 0,
      "outputs": []
    },
    {
      "metadata": {
        "id": "cYgYvBLDUWiN",
        "colab_type": "text"
      },
      "cell_type": "markdown",
      "source": [
        "**Test it out with a fake user question (question1) and a QnA question (question2):**"
      ]
    },
    {
      "metadata": {
        "id": "t-bLO14OZGEr",
        "colab_type": "code",
        "colab": {
          "base_uri": "https://localhost:8080/",
          "height": 51
        },
        "outputId": "ad5ca024-5611-40c2-8000-7e1ffd6acfeb"
      },
      "cell_type": "code",
      "source": [
        "import nltk\n",
        "nltk.download('stopwords')\n",
        "from nltk.corpus import stopwords"
      ],
      "execution_count": 6,
      "outputs": [
        {
          "output_type": "stream",
          "text": [
            "[nltk_data] Downloading package stopwords to /root/nltk_data...\n",
            "[nltk_data]   Unzipping corpora/stopwords.zip.\n"
          ],
          "name": "stdout"
        }
      ]
    },
    {
      "metadata": {
        "id": "0weiQhSqQ5QD",
        "colab_type": "code",
        "outputId": "7ee06355-dca7-4ffb-ef81-b98f249baeb3",
        "colab": {
          "base_uri": "https://localhost:8080/",
          "height": 34
        }
      },
      "cell_type": "code",
      "source": [
        "question1 = 'Will i be charged if I upgrade to Singtel Fibre Broadband?'\n",
        "question2 = 'Will there be any charges for conversion if I plan to migrate from SingNet 56K dial-up or Magix plan to Singtel Fibre Broadband service plans?'\n",
        "\n",
        "question1 = question1.lower().split()\n",
        "question2 = question2.lower().split()\n",
        "\n",
        "question1 = [w for w in question1 if w not in stopwords.words('english')]\n",
        "question2 = [w for w in question2 if w not in stopwords.words('english')]\n",
        "\n",
        "distance = model.wmdistance(question1, question2)\n",
        "print('distance = %.4f' % distance)"
      ],
      "execution_count": 7,
      "outputs": [
        {
          "output_type": "stream",
          "text": [
            "distance = 3.5535\n"
          ],
          "name": "stdout"
        }
      ]
    },
    {
      "metadata": {
        "id": "kXsJ6lOKUnCJ",
        "colab_type": "code",
        "colab": {
          "base_uri": "https://localhost:8080/",
          "height": 34
        },
        "outputId": "6270f360-b96f-4e93-d78b-c9d91ad117de"
      },
      "cell_type": "code",
      "source": [
        "distance = model_n.wmdistance(question1, question2)\n",
        "print('normalized distance = %.4f' % distance)"
      ],
      "execution_count": 8,
      "outputs": [
        {
          "output_type": "stream",
          "text": [
            "normalized distance = 1.2207\n"
          ],
          "name": "stdout"
        }
      ]
    },
    {
      "metadata": {
        "id": "TqM1tPpIY-ps",
        "colab_type": "text"
      },
      "cell_type": "markdown",
      "source": [
        "**Now with our own:**"
      ]
    },
    {
      "metadata": {
        "id": "-w48jnW0ZLI9",
        "colab_type": "code",
        "colab": {
          "base_uri": "https://localhost:8080/",
          "height": 34
        },
        "outputId": "7d63c0e5-3b1c-48e6-82f7-81776512f83d"
      },
      "cell_type": "code",
      "source": [
        "n = 0 #numerator +=1 if we determine that the fb question can be answered by one of the faq question\n",
        "d = 0 #denominator +=1 every iteration\n",
        "\n",
        "for i in range(0,last_fb+1):\n",
        "  question1 = fb.post_text[i]\n",
        "  \n",
        "  if isinstance(question1,str):\n",
        "    \n",
        "    if '?' in question1:\n",
        "      question1 = question1.lower().split()\n",
        "      question1 = [w for w in question1 if w not in stopwords.words('english')]\n",
        "\n",
        "      for j in range(0,last_qna+1):\n",
        "        question2 = qna.question[j]\n",
        "        question2 = question2.lower().split()\n",
        "        question2 = [w for w in question2 if w not in stopwords.words('english')]\n",
        "\n",
        "        distance = model.wmdistance(question1, question2)\n",
        "        distance_n = model_n.wmdistance(question1, question2)\n",
        "\n",
        "        if (abs(distance-distance_n) > 3):\n",
        "          n += 1\n",
        "          break\n",
        "      \n",
        "      d += 1\n",
        "  \n",
        "print(n/d)"
      ],
      "execution_count": 14,
      "outputs": [
        {
          "output_type": "stream",
          "text": [
            "0.6666666666666666\n"
          ],
          "name": "stdout"
        }
      ]
    }
  ]
}